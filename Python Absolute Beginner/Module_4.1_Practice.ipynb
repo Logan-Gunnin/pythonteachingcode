{
 "cells": [
  {
   "cell_type": "markdown",
   "metadata": {},
   "source": [
    "# Module 4 Practice\n",
    "## Nested Conditionals\n",
    "<font size=\"5\" color=\"#00A0B2\"  face=\"verdana\"> <B>Student will be able to</B></font>\n",
    "- create nested conditional logic in code  \n",
    "- print format print using escape sequence (**\\**)"
   ]
  },
  {
   "cell_type": "markdown",
   "metadata": {},
   "source": [
    "# &nbsp;\n",
    "<font size=\"6\" color=\"#B24C00\"  face=\"verdana\"> <B>Tasks</B></font>  "
   ]
  },
  {
   "cell_type": "code",
   "execution_count": 15,
   "metadata": {},
   "outputs": [
    {
     "name": "stdout",
     "output_type": "stream",
     "text": [
      "The new line character is \"\\n\"\n"
     ]
    }
   ],
   "source": [
    "# [ ] print a string that outputs the following exactly: The new line character is \"\\n\"\n",
    "print('The new line character is \"\\\\n\"')\n"
   ]
  },
  {
   "cell_type": "code",
   "execution_count": 16,
   "metadata": {},
   "outputs": [
    {
     "name": "stdout",
     "output_type": "stream",
     "text": [
      "\"That's how we escape!\"\n"
     ]
    }
   ],
   "source": [
    "# [ ] print output that is exactly (with quotes): \"That's how we escape!\"\n",
    "print(\"\\\"That's how we escape!\\\"\")\n"
   ]
  },
  {
   "cell_type": "code",
   "execution_count": 17,
   "metadata": {},
   "outputs": [
    {
     "name": "stdout",
     "output_type": "stream",
     "text": [
      "1\tone\n",
      "22\ttwo\n",
      "333\tthree\n"
     ]
    }
   ],
   "source": [
    "# [ ] with only 1 print statement and using No Space Characters, output the text commented below  \n",
    "\n",
    "# 1       one\n",
    "# 22      two\n",
    "# 333     three\n",
    "print(\"1\\tone\\n22\\ttwo\\n333\\tthree\")\n"
   ]
  },
  {
   "cell_type": "markdown",
   "metadata": {},
   "source": [
    "# &nbsp;\n",
    "## Program: quote_me() Function\n",
    "quote_me takes a string argument and returns a string that will display surrounded with **added double quotes** if printed  \n",
    "- check if passed string starts with a double quote (`\"\\\"\"`), then surround string with single quotations \n",
    "- if the passed string starts with single quote, or if doesn't start with a quotation mark, then surround with double quotations  \n",
    "\n",
    "Test the function code passing string input as the argument to quote_me() "
   ]
  },
  {
   "cell_type": "code",
   "execution_count": 32,
   "metadata": {},
   "outputs": [
    {
     "name": "stdout",
     "output_type": "stream",
     "text": [
      "'\"News\"'\n",
      "you should use quotations in your input for this function\n"
     ]
    }
   ],
   "source": [
    "# [ ] create and test quote_me()\n",
    "def quote_me(phrase):\n",
    "    if phrase.startswith(\"\\\"\"):\n",
    "        print('\\'' + phrase + '\\'')\n",
    "    if phrase.startswith('\\''):\n",
    "        print(\"\\\" + phrase + \\\"\")\n",
    "    else:\n",
    "        print(\"you should use quotations in your input for this function\")\n",
    "quote_me(\"\\\"News\\\"\")\n",
    "\n"
   ]
  },
  {
   "cell_type": "markdown",
   "metadata": {},
   "source": [
    "# &nbsp;\n",
    "### Program: shirt order \n",
    "First get input for color and size  \n",
    "- White has sizes L, M \n",
    "- Blue has sizes M, S  \n",
    "\n",
    "print available or unavailable, then  \n",
    "print the order confirmation of color and size  \n",
    "\n",
    "*\n",
    "**hint**: set a variable \"available = False\" before nested if statements and  \n",
    "change to True if color and size are avaliable*"
   ]
  },
  {
   "cell_type": "code",
   "execution_count": 38,
   "metadata": {},
   "outputs": [
    {
     "name": "stdout",
     "output_type": "stream",
     "text": [
      "Please enter white or bluered\n",
      "Please enter what size you wantl\n",
      "we do not have that color avaliable\n"
     ]
    }
   ],
   "source": [
    "# [ ] create shirt order using nested if \n",
    "white = 'L', 'M'\n",
    "blue = 'M', 'S'\n",
    "color_input = input('Please enter white or blue')\n",
    "size_input = input('Please enter what size you want')\n",
    "if color_input.lower() == 'white':\n",
    "    if size_input.upper() == 'M':\n",
    "        print('You have ordered a white medium shirt')\n",
    "    elif size_input.upper() == \"L\":\n",
    "        print(' you have ordered a white large shirt')\n",
    "    else:\n",
    "        print(\"we do not have that size\")\n",
    "elif color_input.lower() == 'blue':\n",
    "    if size_input.upper() == 'M':\n",
    "        print(' you have ordered a blue medium shirt')\n",
    "    elif size_input.upper() == 'S':\n",
    "        print(' you have ordered a blue small shirt')\n",
    "    else:\n",
    "        print('we do not have that size')\n",
    "else:\n",
    "    print('we do not have that color avaliable')\n"
   ]
  },
  {
   "cell_type": "markdown",
   "metadata": {},
   "source": [
    "# &nbsp;\n",
    "## Program: str_analysis() Function\n",
    "Create the str_analysis() function that takes a string argument.  In the body of the function:\n",
    "- Check `if` string is digits  \n",
    "  - if digits: convert to `int` and check `if` greater than 99  \n",
    "    - if greater than 99, print a message about a \"big number\"  \n",
    "    - if not greater than 99, print message about \"small number\"    \n",
    "  - if not digits: check if string isalpha\n",
    "    - if isalpha print message about being all alpha\n",
    "    - if not isalpha print a message about being neither all alpha nor all digit  \n",
    "    \n",
    "call the function with a string from user input "
   ]
  },
  {
   "cell_type": "code",
   "execution_count": 50,
   "metadata": {},
   "outputs": [
    {
     "name": "stdout",
     "output_type": "stream",
     "text": [
      "give an input for str_analysis100\n",
      "that is a big number\n"
     ]
    }
   ],
   "source": [
    "# [ ] create and test str_analysis()\n",
    "def str_analysis(string):\n",
    "    if string.isdigit():\n",
    "        if int(string) > 99:\n",
    "            print('that is a big number')\n",
    "        else:\n",
    "            print(' that is a small number ')\n",
    "    elif string.isalpha():\n",
    "        print(' that string is all alpha ')\n",
    "    else:\n",
    "        print(' the message is neither alpha or digits')\n",
    "user_input = input('give an input for str_analysis')\n",
    "str_analysis(user_input)\n",
    "            "
   ]
  },
  {
   "cell_type": "markdown",
   "metadata": {
    "collapsed": true
   },
   "source": [
    "# &nbsp;  \n",
    "### Program: ticket_check() - finds out if a seat is available  \n",
    "Call ticket_check() function with 2 arguments: *section* and *seats* requested and return True or False  \n",
    "- **section** is a string and expects: general, floor\n",
    "- **seats** is an integer and expects: 1 - 10  \n",
    "\n",
    "Check for valid section and seats\n",
    "- if section is *general* (or use startswith \"g\")  \n",
    "  - if seats is 1-10 return True \n",
    "- if section is *floor* (or use starts with \"f\")\n",
    "  - if seats is 1-4 return True  \n",
    "\n",
    "otherwise return False"
   ]
  },
  {
   "cell_type": "code",
   "execution_count": 54,
   "metadata": {},
   "outputs": [
    {
     "name": "stdout",
     "output_type": "stream",
     "text": [
      "enter which section you want to be in g or ff\n",
      "which seat do you want 1-10 for g or 1-4 for f5\n"
     ]
    },
    {
     "data": {
      "text/plain": [
       "False"
      ]
     },
     "execution_count": 54,
     "metadata": {},
     "output_type": "execute_result"
    }
   ],
   "source": [
    "# [ ] create and call ticket_check()\n",
    "def ticket_check(section, seats): \n",
    "    if section.startswith('g'):\n",
    "        if int(seats) <= 10:\n",
    "            return True \n",
    "        else:\n",
    "            return False\n",
    "    elif section.startswith('f'):\n",
    "        if int(seats) <= 4:\n",
    "            return True\n",
    "        else:\n",
    "            return False\n",
    "    else:\n",
    "        return False\n",
    "        \n",
    "#Call ticket_check() function with 2 arguments: section and seats requested and return True or False\n",
    "section_input = input('enter which section you want to be in g or f')\n",
    "seats_input = input('which seat do you want 1-10 for g or 1-4 for f')\n",
    "ticket_check(section_input, seats_input)"
   ]
  },
  {
   "cell_type": "markdown",
   "metadata": {},
   "source": [
    "# Module 4 Practice 2\n",
    "## `while()` loops & increments\n",
    "<font size=\"5\" color=\"#00A0B2\"  face=\"verdana\"> <B>Student will be able to</B></font>\n",
    "- create forever loops using `while` and `break`\n",
    "- use incrementing variables in a while loop\n",
    "- control while loops using Boolean operators"
   ]
  },
  {
   "cell_type": "code",
   "execution_count": 58,
   "metadata": {},
   "outputs": [
    {
     "name": "stdout",
     "output_type": "stream",
     "text": [
      "enter a integer use a non-digit to break loop34\n",
      "enter a integer use a non-digit to break loop4\n",
      "enter a integer use a non-digit to break loop5\n",
      "enter a integer use a non-digit to break loope\n",
      "43\n"
     ]
    }
   ],
   "source": [
    "### [ ] use a \"forever\" while loop to get user input of integers to add to sum, \n",
    "# until a non-digit is entered, then break the loop and print sum\n",
    "sum = 0\n",
    "while True:\n",
    "    user_num = input('enter a integer use a non-digit to break loop')\n",
    "    if user_num.isdigit():\n",
    "        sum += int(user_num)\n",
    "    else:\n",
    "        break\n",
    "print(sum)\n"
   ]
  },
  {
   "cell_type": "code",
   "execution_count": 17,
   "metadata": {},
   "outputs": [
    {
     "name": "stdout",
     "output_type": "stream",
     "text": [
      "guess a color in a rainbowred\n",
      "good job you got it right\n",
      "guess a color in a rainbowblue\n",
      "good job you got it right\n",
      "guess a color in a rainbowgreen\n",
      "good job you got it right\n",
      "guess a color in a rainbowyellow\n",
      "good job you got it right\n"
     ]
    }
   ],
   "source": [
    "# [ ] use a while True loop (forever loop) to give 4 chances for input of a correct color in a rainbow\n",
    "# rainbow = \"red orange yellow green blue indigo violet\"\n",
    "rainbow = \"red orange yellow green blue indigo violet\"\n",
    "num_guesses = 0\n",
    "while True:\n",
    "    if num_guesses > 3:\n",
    "        break\n",
    "    guess = input('guess a color in a rainbow')\n",
    "    if guess in rainbow:\n",
    "            print('good job you got it right')\n",
    "            num_guesses += 1\n",
    "    else:\n",
    "        print('that is wrong')\n",
    "        num_guesses +=1\n",
    "    \n"
   ]
  },
  {
   "cell_type": "code",
   "execution_count": 20,
   "metadata": {},
   "outputs": [
    {
     "name": "stdout",
     "output_type": "stream",
     "text": [
      "please enter a title for the book eden\n",
      "please ensure the title is in title format \n",
      "please enter a title for the book Eden\n"
     ]
    }
   ],
   "source": [
    "# [ ] Get input for a book title, keep looping while input is Not in title format (title is every word capitalized)\n",
    "title = \"\"\n",
    "while True: \n",
    "    title = input('please enter a title for the book ')\n",
    "    if title.istitle():\n",
    "        break\n",
    "    else:\n",
    "        print('please ensure the title is in title format ')\n",
    "\n"
   ]
  },
  {
   "cell_type": "code",
   "execution_count": 2,
   "metadata": {},
   "outputs": [
    {
     "name": "stdout",
     "output_type": "stream",
     "text": [
      "enter what 4 X 5 is 4\n",
      "that is incorrect please try again \n",
      "enter what 4 X 5 is 5\n",
      "that is incorrect please try again \n",
      "enter what 4 X 5 is 20\n",
      "that is correct\n"
     ]
    }
   ],
   "source": [
    "# [ ] create a math quiz question and ask for the solution until the input is correct\n",
    "while True:\n",
    "    math_question = input('enter what 4 X 5 is ')\n",
    "    if int(math_question) == 4*5:\n",
    "        print('that is correct')\n",
    "        break\n",
    "    else:\n",
    "        print('that is incorrect please try again ')\n"
   ]
  },
  {
   "cell_type": "markdown",
   "metadata": {},
   "source": [
    "### Fix the Error"
   ]
  },
  {
   "cell_type": "code",
   "execution_count": 9,
   "metadata": {},
   "outputs": [
    {
     "name": "stdout",
     "output_type": "stream",
     "text": [
      "enter tickets remaining (0 to quit): 3\n",
      "you win!\n",
      "enter tickets remaining (0 to quit): 0\n",
      "Game ended\n"
     ]
    }
   ],
   "source": [
    "# [ ] review the code, run, fix the error\n",
    "tickets = input(\"enter tickets remaining (0 to quit): \")\n",
    "\n",
    "while int(tickets) > 0:\n",
    "        # if tickets are multiple of 3 then \"winner\"\n",
    "    if int(tickets)/3 == int(tickets)/3:\n",
    "        print(\"you win!\")\n",
    "    else:\n",
    "        print(\"sorry, not a winner.\")\n",
    "    tickets = int(input(\"enter tickets remaining (0 to quit): \"))\n",
    "\n",
    "print(\"Game ended\")\n",
    "    \n"
   ]
  },
  {
   "cell_type": "markdown",
   "metadata": {},
   "source": [
    "### create a function: quiz_item()  that asks a question and tests if input is correct  \n",
    "- quiz_item()has 2 parameter **strings**: question and solution  \n",
    "- shows question, gets answer input  \n",
    "- returns True if `answer == solution` or continues to ask question until correct answer is provided  \n",
    "- use a while loop\n",
    "\n",
    "create 2 or more quiz questions that call quiz_item()  \n",
    "**Hint**: provide multiple choice or T/F answers"
   ]
  },
  {
   "cell_type": "code",
   "execution_count": 5,
   "metadata": {},
   "outputs": [
    {
     "name": "stdout",
     "output_type": "stream",
     "text": [
      "is this class application development?f\n",
      "that answer is wrong\n",
      "is this class application development?f\n",
      "that answer is wrong\n",
      "is this class application development?t\n",
      "is the year 2022? t\n",
      "is this code using a for loop? f\n"
     ]
    },
    {
     "data": {
      "text/plain": [
       "True"
      ]
     },
     "execution_count": 5,
     "metadata": {},
     "output_type": "execute_result"
    }
   ],
   "source": [
    "# Create quiz_item() and 2 or more quiz questions that call quiz_item()\n",
    "def quiz_item(question, solution):\n",
    "    answer = input(question)\n",
    "    while True: \n",
    "        if answer.upper() == solution:\n",
    "            return True\n",
    "            break\n",
    "        else:\n",
    "            print('that answer is wrong')\n",
    "            answer = input(question)\n",
    "    \n",
    "#quiz_item()has 2 parameter strings: question and solution\n",
    "\n",
    "quiz_item('is this class application development?', 'T')   \n",
    "\n",
    "quiz_item('is the year 2022? ', 'T')\n",
    "\n",
    "quiz_item('is this code using a for loop? ', 'F')\n",
    "\n",
    "\n",
    "\n",
    "\n"
   ]
  },
  {
   "cell_type": "markdown",
   "metadata": {
    "collapsed": true
   },
   "source": [
    "[Terms of use](http://go.microsoft.com/fwlink/?LinkID=206977) &nbsp; [Privacy & cookies](https://go.microsoft.com/fwlink/?LinkId=521839) &nbsp; © 2017 Microsoft"
   ]
  }
 ],
 "metadata": {
  "anaconda-cloud": {},
  "kernelspec": {
   "display_name": "Python 3 (ipykernel)",
   "language": "python",
   "name": "python3"
  },
  "language_info": {
   "codemirror_mode": {
    "name": "ipython",
    "version": 3
   },
   "file_extension": ".py",
   "mimetype": "text/x-python",
   "name": "python",
   "nbconvert_exporter": "python",
   "pygments_lexer": "ipython3",
   "version": "3.9.7"
  }
 },
 "nbformat": 4,
 "nbformat_minor": 1
}
