{
 "cells": [
  {
   "cell_type": "markdown",
   "metadata": {
    "collapsed": true
   },
   "source": [
    "#  Module 3 Required Coding Activity  \n",
    "Introduction to Python Unit 1 \n",
    "\n",
    "This is an activity based on code similar to the Jupyter Notebook **`Practice_MOD03_1-4_IntroPy.ipynb`** and **`Practice_MOD03_1-5_IntroPy.ipynb`** which you may have completed as practice.\n",
    "\n",
    "> **NOTE:** This program requires the use of **`if, elif, else`**, and casting between strings and numbers. The program should use the various code syntax covered in module 3.  \n",
    ">  \n",
    ">The program must result in print output using numeric input similar to that shown in the sample below.\n",
    "\n",
    "## Program: Cheese Order    \n",
    "\n",
    "- set values for maximum and minimum order variables  \n",
    "- set value for price variable\n",
    "- get order_amount input and cast to a number  \n",
    "- check order_amount and give message checking against  \n",
    "  - over maximum\n",
    "  - under minimum\n",
    "- else within maximum and minimum give message with calculated price \n",
    "\n",
    "\n",
    "Sample input and output:\n",
    "```\n",
    "Enter cheese order weight (numeric value): 113\n",
    "113.0 is more than currently available stock\n",
    "```\n",
    "\n",
    "```\n",
    "Enter cheese order weight (numeric value): .15\n",
    "0.15 is below minimum order amount\n",
    "```  \n",
    "\n",
    "```\n",
    "Enter cheese order weight (numeric value): 2\n",
    "2.0 costs $15.98\n",
    "```  "
   ]
  },
  {
   "cell_type": "code",
   "execution_count": 4,
   "metadata": {},
   "outputs": [
    {
     "name": "stdout",
     "output_type": "stream",
     "text": [
      "how much cheese do you want to order? 190\n",
      "Thank you for your order! the price will be $ 427.5\n"
     ]
    }
   ],
   "source": [
    "# [ ] create, call and test \n",
    "def cheese_order(order_amount = input('how much cheese do you want to order? ')):\n",
    "    maximum_order = 200\n",
    "    minimum_order = 1\n",
    "    price = 2.25\n",
    "    if int(order_amount) > maximum_order:\n",
    "        print('that order is too large choose the maximum amount is 200 ')\n",
    "    elif int(order_amount) < minimum_order:\n",
    "        print('that order is too small the minimum order is 1 ')\n",
    "    else:\n",
    "        print('Thank you for your order! the price will be $', int(order_amount) * price)\n",
    "cheese_order()"
   ]
  },
  {
   "cell_type": "markdown",
   "metadata": {},
   "source": [
    "Submit this by creating a python file (.py) and submitting it in D2L. Be sure to test that it works."
   ]
  }
 ],
 "metadata": {
  "kernelspec": {
   "display_name": "Python 3 (ipykernel)",
   "language": "python",
   "name": "python3"
  },
  "language_info": {
   "codemirror_mode": {
    "name": "ipython",
    "version": 3
   },
   "file_extension": ".py",
   "mimetype": "text/x-python",
   "name": "python",
   "nbconvert_exporter": "python",
   "pygments_lexer": "ipython3",
   "version": "3.9.7"
  }
 },
 "nbformat": 4,
 "nbformat_minor": 1
}
