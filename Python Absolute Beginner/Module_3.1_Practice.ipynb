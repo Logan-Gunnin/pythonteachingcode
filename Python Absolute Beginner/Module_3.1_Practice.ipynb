{
 "cells": [
  {
   "cell_type": "markdown",
   "metadata": {},
   "source": [
    "# Module 3 Practice 1\n",
    "## Conditionals \n",
    "<font size=\"5\" color=\"#00A0B2\"  face=\"verdana\"> <B>Student will be able to</B></font>  \n",
    "- **control code flow with `if`... `else` conditional logic**  \n",
    "  - using Boolean string methods (`.isupper(), .isalpha(), .startswith()...`)  \n",
    "  - using comparision (`>, <, >=, <=, ==, !=`)  \n",
    "  - using Strings in comparisons  \n",
    "\n",
    "## `if else`\n"
   ]
  },
  {
   "cell_type": "code",
   "execution_count": 2,
   "metadata": {},
   "outputs": [
    {
     "name": "stdout",
     "output_type": "stream",
     "text": [
      "what is your age? 8\n",
      "It is good to be  8\n"
     ]
    }
   ],
   "source": [
    "# [ ] input avariable: age as digit and cast to int\n",
    "age = input('what is your age? ')\n",
    "# if age greater than or equal to 12 then print message on age in 10 years \n",
    "if int(age) >= 12:\n",
    "    print('your age in 10 years will be ', int(age) + 10)\n",
    "# or else print message \"It is good to be\" age\n",
    "else:\n",
    "    print('It is good to be ', age)\n",
    "\n",
    "\n"
   ]
  },
  {
   "cell_type": "code",
   "execution_count": 2,
   "metadata": {},
   "outputs": [
    {
     "name": "stdout",
     "output_type": "stream",
     "text": [
      "is the number you enter greater than 100? yes\n"
     ]
    },
    {
     "ename": "ValueError",
     "evalue": "invalid literal for int() with base 10: 'yes'",
     "output_type": "error",
     "traceback": [
      "\u001b[1;31m---------------------------------------------------------------------------\u001b[0m",
      "\u001b[1;31mValueError\u001b[0m                                Traceback (most recent call last)",
      "\u001b[1;32m~\\AppData\\Local\\Temp/ipykernel_29180/3191753587.py\u001b[0m in \u001b[0;36m<module>\u001b[1;34m\u001b[0m\n\u001b[0;32m      2\u001b[0m \u001b[0mnumber\u001b[0m \u001b[1;33m=\u001b[0m \u001b[0minput\u001b[0m\u001b[1;33m(\u001b[0m\u001b[1;34m'is the number you enter greater than 100? '\u001b[0m\u001b[1;33m)\u001b[0m\u001b[1;33m\u001b[0m\u001b[1;33m\u001b[0m\u001b[0m\n\u001b[0;32m      3\u001b[0m \u001b[1;31m# if number IS a digit string then cast to int\u001b[0m\u001b[1;33m\u001b[0m\u001b[1;33m\u001b[0m\u001b[0m\n\u001b[1;32m----> 4\u001b[1;33m \u001b[1;32mif\u001b[0m \u001b[0mint\u001b[0m\u001b[1;33m(\u001b[0m\u001b[0mnumber\u001b[0m\u001b[1;33m)\u001b[0m \u001b[1;33m>\u001b[0m \u001b[1;36m100\u001b[0m\u001b[1;33m:\u001b[0m\u001b[1;33m\u001b[0m\u001b[1;33m\u001b[0m\u001b[0m\n\u001b[0m\u001b[0;32m      5\u001b[0m      \u001b[0mprint\u001b[0m\u001b[1;33m(\u001b[0m\u001b[1;34m' the number is greater than 100'\u001b[0m\u001b[1;33m)\u001b[0m\u001b[1;33m\u001b[0m\u001b[1;33m\u001b[0m\u001b[0m\n\u001b[0;32m      6\u001b[0m \u001b[1;32melif\u001b[0m \u001b[0mint\u001b[0m\u001b[1;33m(\u001b[0m\u001b[0mnumber\u001b[0m\u001b[1;33m)\u001b[0m \u001b[1;33m<=\u001b[0m \u001b[1;36m100\u001b[0m\u001b[1;33m:\u001b[0m\u001b[1;33m\u001b[0m\u001b[1;33m\u001b[0m\u001b[0m\n",
      "\u001b[1;31mValueError\u001b[0m: invalid literal for int() with base 10: 'yes'"
     ]
    }
   ],
   "source": [
    "# [ ] input a number \n",
    "number = input('is the number you enter greater than 100? ')\n",
    "# if number IS a digit string then cast to int\n",
    "if int(number) > 100:\n",
    "     print(' the number is greater than 100')\n",
    "elif int(number) <= 100:\n",
    "     print(' the number is equal to or less than 100')\n",
    "else:\n",
    "     print('only int is accepted')\n",
    "# print number \"greater than 100 is\" True/False\n",
    "# if number is NOT a digit string then message the user that \"only int is accepted\"\n",
    "\n",
    "\n"
   ]
  },
  {
   "cell_type": "markdown",
   "metadata": {},
   "source": [
    "### Guessing a letter A-Z  \n",
    "**check_guess()** takes 2 string arguments: **letter and guess** (both expect single alphabetical character)   \n",
    "    - if guess is not an alpha character print invalid and return False\n",
    "    - test and print if guess is \"high\" or \"low\" and return False\n",
    "    - test and print if guess is \"correct\" and return True"
   ]
  },
  {
   "cell_type": "code",
   "execution_count": 21,
   "metadata": {},
   "outputs": [
    {
     "name": "stdout",
     "output_type": "stream",
     "text": [
      "guess a single alphebetical character a\n"
     ]
    },
    {
     "data": {
      "text/plain": [
       "'that guess is correct'"
      ]
     },
     "execution_count": 21,
     "metadata": {},
     "output_type": "execute_result"
    }
   ],
   "source": [
    "# [ ] create check_guess()\n",
    "def check_guess(letter = 'a',guess = input('guess a single alphebetical character ')):\n",
    "\n",
    "    \n",
    "    if guess == guess.isalpha():\n",
    "        return('invalid enter a alphabetical character')\n",
    "    elif guess == letter:\n",
    "        return('that guess is correct')\n",
    "    elif guess > letter:\n",
    "        return('that guess is false')\n",
    "    else:\n",
    "        return('that guess is false')\n",
    "# call with test\n",
    "check_guess()\n",
    "\n"
   ]
  },
  {
   "cell_type": "code",
   "execution_count": 20,
   "metadata": {},
   "outputs": [
    {
     "name": "stdout",
     "output_type": "stream",
     "text": [
      "that guess is false\n"
     ]
    }
   ],
   "source": [
    "# [ ] call check_guess with user input\n",
    "check_guess('b')\n"
   ]
  },
  {
   "cell_type": "markdown",
   "metadata": {},
   "source": [
    "### Letter Guess\n",
    "**create letter_guess() function that gives user 3 guesses**\n",
    "- takes a letter character argument for the answer letter\n",
    "- gets user input for letter guess  \n",
    "- calls check_guess() with answer and guess\n",
    "- End letter_guess if \n",
    "    - check_guess() equals True, return True  \n",
    "    - or after 3 failed attempts, return False"
   ]
  },
  {
   "cell_type": "code",
   "execution_count": 27,
   "metadata": {},
   "outputs": [
    {
     "name": "stdout",
     "output_type": "stream",
     "text": [
      "make your first guess of the letter b\n",
      "that guess is false\n",
      "make your first guess of the letter d\n",
      "that guess is false\n",
      "make your first guess of the letter c\n",
      "sorry you got it wrong three times\n"
     ]
    }
   ],
   "source": [
    "# [ ] create letter_guess() function, call the function to test\n",
    "def letter_guess(guess_num = 1):\n",
    "    input_1 = input('make your first guess of the letter ').lower()\n",
    "    if check_guess(input_1) == \"that guess is correct\":\n",
    "        print('good job you got it right!')\n",
    "    elif guess_num == 3:\n",
    "        print('sorry you got it wrong three times')\n",
    "    else:\n",
    "        print(check_guess(input_1))\n",
    "        guess_num + 1\n",
    "    return\n",
    "letter_guess()\n",
    "letter_guess(2)\n",
    "letter_guess(3)\n",
    "\n"
   ]
  },
  {
   "cell_type": "markdown",
   "metadata": {},
   "source": [
    "### Pet Conversation\n",
    "**ask the user for a sentence about a pet and then reply**  \n",
    "- get user input in variable: about_pet\n",
    "- using a series of **if** statements respond with appropriate conversation\n",
    "  - check if \"dog\" is in the string about_pet (sample reply \"Ah, a dog\")\n",
    "  - check if \"cat\" is in the string about_pet\n",
    "  - check if 1 or more animal is in string about_pet\n",
    "- no need for **else**'s\n",
    "- finish with thanking for the story"
   ]
  },
  {
   "cell_type": "code",
   "execution_count": 29,
   "metadata": {},
   "outputs": [
    {
     "name": "stdout",
     "output_type": "stream",
     "text": [
      "what kind of pet is it? lizard\n",
      "thanks for the story! \n"
     ]
    }
   ],
   "source": [
    "# [ ] complete pet conversation\n",
    "about_pet = input('what kind of pet is it? ').lower()\n",
    "if about_pet == 'dog':\n",
    "    print(\"ah, a dog\")\n",
    "elif about_pet == 'cat':\n",
    "    print(\"ah, a cat\")\n",
    "elif about_pet == 'bird':\n",
    "    print(\"ah, a bird\")\n",
    "else:\n",
    "    print('thanks for the story! ')"
   ]
  },
  {
   "cell_type": "markdown",
   "metadata": {},
   "source": [
    "# Module 3 Practice 2\n",
    "## conditionals, type, and mathematics extended   \n",
    "&nbsp;\n",
    "<font size=\"5\" color=\"#00A0B2\"  face=\"verdana\"> <B>Student will be able to</B></font>  \n",
    "- code more than two choices using **`elif`** \n",
    "- gather numeric input using type casting  \n",
    "- perform subtraction, multiplication and division operations in code  &nbsp;  \n"
   ]
  },
  {
   "cell_type": "markdown",
   "metadata": {},
   "source": [
    "# &nbsp;  \n",
    "<font size=\"6\" color=\"#B24C00\"  face=\"verdana\"> <B>Tasks</B></font>"
   ]
  },
  {
   "cell_type": "markdown",
   "metadata": {},
   "source": [
    "### Rainbow colors\n",
    "ask for input of a favorite rainbow color first letter: ROYGBIV  \n",
    "\n",
    "Using `if`, `elif`, and `else`:  \n",
    "- print the color matching the letter  \n",
    "    - R = Red  \n",
    "    - O = Orange  \n",
    "    - Y = Yellow  \n",
    "    - G = Green\n",
    "    - B = Blue\n",
    "    - I = Indigo\n",
    "    - V = Violet\n",
    "    - else print \"no match\"\n"
   ]
  },
  {
   "cell_type": "code",
   "execution_count": 33,
   "metadata": {},
   "outputs": [
    {
     "name": "stdout",
     "output_type": "stream",
     "text": [
      "what is your favorite rainbow color r\n",
      "Red\n"
     ]
    }
   ],
   "source": [
    "# [ ] complete rainbow colors\n",
    "color = input('what is your favorite rainbow color ').lower()\n",
    "if color == \"r\":\n",
    "    print('Red')\n",
    "elif color == \"o\":\n",
    "    print('Orange')\n",
    "elif color == \"y\":\n",
    "    print('Yellow')\n",
    "elif color == \"g\":\n",
    "    print('Green')\n",
    "elif color == 'b':\n",
    "    print('blue')\n",
    "elif color == 'i':\n",
    "    print('Indigio')\n",
    "elif color == 'v':\n",
    "    print('Violet')\n",
    "else:\n",
    "    print('no match')\n",
    "\n"
   ]
  },
  {
   "cell_type": "code",
   "execution_count": 72,
   "metadata": {},
   "outputs": [
    {
     "name": "stdout",
     "output_type": "stream",
     "text": [
      "what is your favorite rainbow color y\n",
      "Yellow\n"
     ]
    }
   ],
   "source": [
    "# [ ] make the code above into a function rainbow_color() that has a string parameter, \n",
    "def rainbow_color(color = 'r'):\n",
    "    if color == \"r\":\n",
    "        print('Red')\n",
    "    elif color == \"o\":\n",
    "        print('Orange')\n",
    "    elif color == \"y\":\n",
    "        print('Yellow')\n",
    "    elif color == \"g\":\n",
    "        print('Green')\n",
    "    elif color == 'b':\n",
    "        print('blue')\n",
    "    elif color == 'i':\n",
    "        print('Indigio')\n",
    "    elif color == 'v':\n",
    "        print('Violet')\n",
    "    else:\n",
    "        return('no match')\n",
    "# get input and call the function and return the matching color as a string or \"no match\" message.\n",
    "color_input = input('what is your favorite rainbow color ').lower()\n",
    "\n",
    "# Call the function and print the return string.\n",
    "rainbow_color(color_input)\n"
   ]
  },
  {
   "cell_type": "markdown",
   "metadata": {},
   "source": [
    "# &nbsp;  \n",
    "**Create function age_20() that adds or subtracts 20 from your age for a return value based on current age** (use `if`) \n",
    "- call the funtion with user input and then use the return value in a sentence  \n",
    "example `age_20(25)` returns **5**: \n",
    "> \"5 years old, 20 years difference from now\""
   ]
  },
  {
   "cell_type": "code",
   "execution_count": 76,
   "metadata": {},
   "outputs": [
    {
     "name": "stdout",
     "output_type": "stream",
     "text": [
      "enter your age24\n",
      "20 years ago you were this age  4\n"
     ]
    }
   ],
   "source": [
    "# [ ] complete age_20()\n",
    "def age_20(age_20 = '25'):\n",
    "    if int(age_20) >= 21:\n",
    "        print('20 years ago you were this age ', int(age_20) - 20)\n",
    "    elif int(age_20) <= 20:\n",
    "        print('20 years from now you will be this age', int(age_20) + 20)\n",
    "    else:\n",
    "        print('please put in a number that could be an age')\n",
    "age_input = input('enter your age')\n",
    "age_20(age_input)\n"
   ]
  },
  {
   "cell_type": "markdown",
   "metadata": {},
   "source": [
    "**create a function rainbow_or_age that takes a string argument**\n",
    "- if argument is a digit return the value of calling age_20() with the str value cast as **`int`** \n",
    "- if argument is an alphabetical character return the value of calling rainbow_color() with the str\n",
    "- if neither return FALSE"
   ]
  },
  {
   "cell_type": "code",
   "execution_count": 85,
   "metadata": {},
   "outputs": [
    {
     "name": "stdout",
     "output_type": "stream",
     "text": [
      "Enter your age or first letter of your favorite color7\n",
      "20 years from now you will be this age 27\n"
     ]
    }
   ],
   "source": [
    "# [ ]  create rainbow_or_age()\n",
    "def rainbow_or_age(rainbow_input):\n",
    "    if rainbow_input.isdigit():\n",
    "        (age_20(rainbow_input))\n",
    "    elif rainbow_input.isalpha():\n",
    "        rainbow_color(rainbow_input)\n",
    "    else:\n",
    "        return('FALSE')\n",
    "rainbow_input = input('Enter your age or first letter of your favorite color')\n",
    "rainbow_or_age(rainbow_input)\n"
   ]
  },
  {
   "cell_type": "code",
   "execution_count": 86,
   "metadata": {},
   "outputs": [
    {
     "name": "stdout",
     "output_type": "stream",
     "text": [
      "enter a number10\n",
      "enter a second number4\n",
      "14\n"
     ]
    }
   ],
   "source": [
    "# [ ]  add 2 numbers from input using a cast to integer and display the answer \n",
    "first_number = input('enter a number')\n",
    "second_number = input('enter a second number')\n",
    "print(int(first_number) + int(second_number))\n"
   ]
  },
  {
   "cell_type": "code",
   "execution_count": 88,
   "metadata": {},
   "outputs": [
    {
     "name": "stdout",
     "output_type": "stream",
     "text": [
      "enter a number40\n",
      "enter a second number4\n",
      "the answer is 160\n"
     ]
    }
   ],
   "source": [
    "# [ ] Multiply 2 numbers from input using cast and save the answer as part of a string \"the answer is...\"\n",
    "# display the string using print\n",
    "first_number = input('enter a number')\n",
    "second_number = input('enter a second number')\n",
    "print('the answer is', int(first_number) * int(second_number))"
   ]
  },
  {
   "cell_type": "code",
   "execution_count": 89,
   "metadata": {},
   "outputs": [
    {
     "name": "stdout",
     "output_type": "stream",
     "text": [
      "enter a number14\n",
      "enter a second number20\n",
      "17.0\n"
     ]
    }
   ],
   "source": [
    "# [ ] get input of 2 numbers and display the average: (num1 + num2) divided by 2\n",
    "first_number = input('enter a number')\n",
    "second_number = input('enter a second number')\n",
    "print((int(first_number) + int(second_number))/2)\n"
   ]
  },
  {
   "cell_type": "code",
   "execution_count": 91,
   "metadata": {},
   "outputs": [
    {
     "name": "stdout",
     "output_type": "stream",
     "text": [
      "enter a number14\n",
      "enter a second number20\n",
      "6\n"
     ]
    }
   ],
   "source": [
    "# [ ] get input of 2 numbers and subtract the largest from the smallest (use an if statement to see which is larger)\n",
    "# show the answer\n",
    "first_number = input('enter a number')\n",
    "second_number = input('enter a second number')\n",
    "if int(first_number) > int(second_number):\n",
    "    print(int(first_number) - int(second_number))\n",
    "elif int(first_number) < int(second_number):\n",
    "    print(int(second_number) - int(first_number))\n",
    "else:\n",
    "    print('please reenter the numbers')\n"
   ]
  },
  {
   "cell_type": "code",
   "execution_count": 4,
   "metadata": {},
   "outputs": [
    {
     "name": "stdout",
     "output_type": "stream",
     "text": [
      "enter a number5\n",
      "enter a second number10\n",
      "2.0\n"
     ]
    }
   ],
   "source": [
    "# [ ] Divide a larger number by a smaller number and print the integer part of the result\n",
    "# don't divide by zero! if a zero is input make the result zero\n",
    "first_number = input('enter a number')\n",
    "second_number = input('enter a second number')\n",
    "if int(first_number) > int(second_number):\n",
    "    print(int(first_number) / int(second_number))\n",
    "elif int(first_number) < int(second_number):\n",
    "    print(int(second_number) / int(first_number))\n",
    "elif first_number == '0':\n",
    "    print('0')\n",
    "elif second_number == '0':\n",
    "    print('0')\n",
    "else:\n",
    "    print('please reenter the numbers')\n",
    "# [ ] cast the answer to an integer to cut off the decimals and print the result\n",
    "\n"
   ]
  },
  {
   "cell_type": "markdown",
   "metadata": {
    "collapsed": true
   },
   "source": [
    "[Terms of use](http://go.microsoft.com/fwlink/?LinkID=206977) &nbsp; [Privacy & cookies](https://go.microsoft.com/fwlink/?LinkId=521839) &nbsp; © 2017 Microsoft"
   ]
  }
 ],
 "metadata": {
  "anaconda-cloud": {},
  "kernelspec": {
   "display_name": "Python 3 (ipykernel)",
   "language": "python",
   "name": "python3"
  },
  "language_info": {
   "codemirror_mode": {
    "name": "ipython",
    "version": 3
   },
   "file_extension": ".py",
   "mimetype": "text/x-python",
   "name": "python",
   "nbconvert_exporter": "python",
   "pygments_lexer": "ipython3",
   "version": "3.9.7"
  }
 },
 "nbformat": 4,
 "nbformat_minor": 1
}
